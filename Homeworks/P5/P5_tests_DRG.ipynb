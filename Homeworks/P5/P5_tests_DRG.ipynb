{
 "cells": [
  {
   "cell_type": "markdown",
   "id": "4c0de027",
   "metadata": {},
   "source": [
    "# Práctica 5 - Programación Funcional - Soluciones"
   ]
  },
  {
   "cell_type": "markdown",
   "id": "011d6587",
   "metadata": {},
   "source": [
    "## General imports"
   ]
  },
  {
   "cell_type": "code",
   "execution_count": null,
   "id": "7c2c038e",
   "metadata": {},
   "outputs": [],
   "source": [
    "from functools import reduce\n"
   ]
  },
  {
   "cell_type": "markdown",
   "id": "58e85e0f",
   "metadata": {},
   "source": [
    "## First problem:\n",
    "\n",
    "Dada una lista de números enteros cualquiera, utilice los métodos map, filter y reduce para filtrar los números impares de la lista y calcular la suma de sus cuadrados."
   ]
  },
  {
   "cell_type": "code",
   "execution_count": 16,
   "id": "cab61ed4",
   "metadata": {},
   "outputs": [
    {
     "name": "stdout",
     "output_type": "stream",
     "text": [
      "Lista original: [36, 96, 45, 2, 11, 97, 55, 22, 22, 56]\n",
      "Números impares: [45, 11, 97, 55]\n",
      "Cuadrados de los impares: [2025, 121, 9409, 3025]\n",
      "Suma de los cuadrados: 14580\n"
     ]
    }
   ],
   "source": [
    "import random\n",
    "\n",
    "nums = list(random.randint(0, 101) for _ in range(10))\n",
    "\n",
    "nums_impares = list(filter(lambda x: x % 2 != 0, nums))\n",
    "\n",
    "cuadrados = list(map(lambda x: x ** 2, nums_impares))\n",
    "\n",
    "suma_cuadrados = reduce(lambda x, y: x + y, cuadrados)\n",
    "print(\"Lista original:\", nums)\n",
    "print(\"Números impares:\", nums_impares)\n",
    "print(\"Cuadrados de los impares:\", cuadrados)\n",
    "print(\"Suma de los cuadrados:\", suma_cuadrados)"
   ]
  },
  {
   "cell_type": "markdown",
   "id": "849c9c07",
   "metadata": {},
   "source": [
    "## Second problem:\n",
    "\n",
    "Dada una lista de diccionarios que representan productos con nombre (llave en el diccionario) y precio (valor de la llave en el diccionario), filtre los productos que cuestan más de $200, y aplique un descuento del 10%. Finalmente calcule el total de los productos que tienen descuento."
   ]
  },
  {
   "cell_type": "code",
   "execution_count": 37,
   "id": "dd2552c5",
   "metadata": {},
   "outputs": [
    {
     "name": "stdout",
     "output_type": "stream",
     "text": [
      "Productos con un valor mayor a $200 son:\n",
      "1) Dock Hub USB-C - $1200\n",
      "2) Cuaderno Moleskine - $250\n",
      "3) Plumas Pilot G-2 - $350\n",
      "4) Audifonos Inalámbricos - $1500\n",
      "*-*-*-*-*-*-*-*-*-*-*-*-*-*-*-*-*-*-*-*-*-*-*-*-*-*\n",
      "El descuento total final es de: $2970.00\n"
     ]
    }
   ],
   "source": [
    "productos = [\n",
    "    {\"Cable USB-C\": 165},\n",
    "    {\"Dock Hub USB-C\": 1200},\n",
    "    {\"Cuaderno Moleskine\": 250},\n",
    "    {\"Plumas Pilot G-2\": 350},\n",
    "    {\"Adaptador Corriente USB-C\": 100},\n",
    "    {\"Audifonos Inalámbricos\": 1500}\n",
    "]\n",
    "\n",
    "precios_mayores = list(filter(lambda x: list(x.values())[0] > 200, productos))\n",
    "\n",
    "descuentos = list(map(lambda x: {list(x.keys())[0]: list(x.values())[0] * 0.9}, precios_mayores))\n",
    "\n",
    "precios_descuentos = list(map(lambda x: list(x.values())[0], descuentos))\n",
    "descuento_total = sum(precios_descuentos)\n",
    "\n",
    "print(\"Productos con un valor mayor a $200 son:\", )\n",
    "for i, producto in enumerate(precios_mayores):\n",
    "    print(f\"{i+1}) {list(producto.keys())[0]} - ${list(producto.values())[0]}\")\n",
    "\n",
    "print(f\"{'*-'*25}*\")\n",
    "print(f\"El descuento total final es de: ${descuento_total:.2f}\")"
   ]
  },
  {
   "cell_type": "markdown",
   "id": "cb889086",
   "metadata": {},
   "source": [
    "## Third problem\n",
    "\n",
    "Existe un método llamado mínimos cuadrados que en su caso lineal permite obtener\n",
    "una línea recta que se aproxima a una serie de $m$ puntos $(x, y)$. La recta resultante\n",
    "del método es $y = a_0 + a_1x$, y para calcular los coeficientes $a_0$ y $a_1$ se utilizan las\n",
    "siguientes fórmulas:\n",
    "\n",
    "![image](../../imgs/Screenshot%202025-05-29%20at%205.03.37 p.m..png)\n",
    "\n",
    "Desarrolle un programa en Python que realice el cálculo de las fórmulas, utilice las funciones `lambda`, `map`, `filter` y/o `reduce` para el calculo de las sumatorias según sea necesario. Considere que los puntos para el cálculo se reciben como una lista de tuplas (cada tupla es un punto $(x, y)$) y $m$ es el número de tuplas en la lista.\n",
    "\n",
    "Considere este ejemplo del método como referencia:\n",
    "![image](../../imgs/Screenshot%202025-05-29%20at%205.06.23 p.m..png)"
   ]
  },
  {
   "cell_type": "code",
   "execution_count": 40,
   "id": "126fad1f",
   "metadata": {},
   "outputs": [
    {
     "name": "stdout",
     "output_type": "stream",
     "text": [
      "a_0: -0.360, a_1: 1.538\n",
      "y = -0.360 + 1.538x\n"
     ]
    }
   ],
   "source": [
    "test_data = [\n",
    "    (1, 1.3),\n",
    "    (2, 3.5),\n",
    "    (3, 4.2),\n",
    "    (4, 5),\n",
    "    (5, 7),\n",
    "    (6, 8.8),\n",
    "    (7, 10.1),\n",
    "    (8, 12.5),\n",
    "    (9, 13),\n",
    "    (10, 15.6),\n",
    "]\n",
    "\n",
    "m = len(test_data)\n",
    "\n",
    "sum_x = sum(map(lambda x: x[0], test_data))\n",
    "sum_y = sum(map(lambda x: x[1], test_data))\n",
    "\n",
    "sum_x_sq = sum(map(lambda x: x[0] ** 2, test_data))\n",
    "\n",
    "sum_xy = sum(map(lambda x: x[0] * x[1], test_data))\n",
    "\n",
    "den = m * sum_x_sq - sum_x ** 2\n",
    "\n",
    "num_0 = sum_x_sq * sum_y - sum_xy * sum_x\n",
    "num_1 = m * sum_xy - sum_x * sum_y\n",
    "\n",
    "a_0 = num_0 / den\n",
    "a_1 = num_1 / den\n",
    "\n",
    "print(f\"a_0: {a_0:.3f}, a_1: {a_1:.3f}\")\n",
    "print(f\"y = {a_0:.3f} + {a_1:.3f}x\")"
   ]
  }
 ],
 "metadata": {
  "kernelspec": {
   "display_name": "advanced-prog",
   "language": "python",
   "name": "python3"
  },
  "language_info": {
   "codemirror_mode": {
    "name": "ipython",
    "version": 3
   },
   "file_extension": ".py",
   "mimetype": "text/x-python",
   "name": "python",
   "nbconvert_exporter": "python",
   "pygments_lexer": "ipython3",
   "version": "3.11.4"
  }
 },
 "nbformat": 4,
 "nbformat_minor": 5
}
