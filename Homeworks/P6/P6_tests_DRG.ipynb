{
 "cells": [
  {
   "cell_type": "markdown",
   "id": "60bde8cb",
   "metadata": {},
   "source": [
    "# Práctica 6 - Listas por comprensión"
   ]
  },
  {
   "cell_type": "markdown",
   "id": "8577da2a",
   "metadata": {},
   "source": [
    "## Ejercicio 1\n",
    "\n",
    "Dadas dos listas de números, por ejemplo [1, 2, 3] y [4, 5, 6], genera una nueva lista que contenga el producto de los elementos correspondientes."
   ]
  },
  {
   "cell_type": "code",
   "execution_count": 2,
   "id": "801be2c3",
   "metadata": {},
   "outputs": [
    {
     "data": {
      "text/plain": [
       "[4, 10, 18]"
      ]
     },
     "metadata": {},
     "output_type": "display_data"
    }
   ],
   "source": [
    "lst_1 = [1,2,3]\n",
    "lst_2 = [4,5,6]\n",
    "\n",
    "prod_lst = [a * b for a, b in zip(lst_1, lst_2)]\n",
    "\n",
    "display(prod_lst)"
   ]
  },
  {
   "cell_type": "markdown",
   "id": "07b9d5c4",
   "metadata": {},
   "source": [
    "## Ejercicio 2\n",
    "\n",
    "Dada una lista de diccionarios que representan personas con claves “nombre”, “edad” y “ciudad”, genera una nueva lista de nombres de personas que tengan más de 30 años y vivan en “Madrid”.\n",
    "Ejemplo: Para la lista \n",
    "\n",
    "```python\n",
    "[{\"nombre\": \"Ana\", \"edad\": 25, \"ciudad\": \"Madrid\"}, {\"nombre\": \"Juan\", \"edad\": 35, \"ciudad\": \"Madrid\"}, {\"nombre\": \"Luis\", \"edad\": 32, \"ciudad\": \"Barcelona\"}]\n",
    "```\n",
    "el resultado debería ser `[“Juan”]`."
   ]
  },
  {
   "cell_type": "code",
   "execution_count": 5,
   "id": "6da864f5",
   "metadata": {},
   "outputs": [
    {
     "data": {
      "text/plain": [
       "['Juan']"
      ]
     },
     "metadata": {},
     "output_type": "display_data"
    }
   ],
   "source": [
    "people_lst = [\n",
    "    {\"nombre\": \"Ana\", \"edad\": 25, \"ciudad\": \"Madrid\"},\n",
    "    {\"nombre\": \"Juan\", \"edad\": 35, \"ciudad\": \"Madrid\"},\n",
    "    {\"nombre\": \"Luis\", \"edad\": 32, \"ciudad\": \"Barcelona\"},\n",
    "]\n",
    "\n",
    "filtered_people = [\n",
    "    person[\"nombre\"] for person in people_lst if person[\"ciudad\"] == \"Madrid\" and person[\"edad\"] > 30\n",
    "]\n",
    "\n",
    "display(filtered_people)"
   ]
  }
 ],
 "metadata": {
  "kernelspec": {
   "display_name": "advanced-prog",
   "language": "python",
   "name": "python3"
  },
  "language_info": {
   "codemirror_mode": {
    "name": "ipython",
    "version": 3
   },
   "file_extension": ".py",
   "mimetype": "text/x-python",
   "name": "python",
   "nbconvert_exporter": "python",
   "pygments_lexer": "ipython3",
   "version": "3.11.4"
  }
 },
 "nbformat": 4,
 "nbformat_minor": 5
}
