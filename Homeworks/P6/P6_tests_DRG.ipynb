{
 "cells": [
  {
   "cell_type": "markdown",
   "id": "60bde8cb",
   "metadata": {},
   "source": [
    "# Práctica 6 - Listas por comprensión"
   ]
  },
  {
   "cell_type": "markdown",
   "id": "8577da2a",
   "metadata": {},
   "source": [
    "## Ejercicio 1\n",
    "\n",
    "Dadas dos listas de números, por ejemplo [1, 2, 3] y [4, 5, 6], genera una nueva lista que contenga el producto de los elementos correspondientes."
   ]
  },
  {
   "cell_type": "code",
   "execution_count": 2,
   "id": "801be2c3",
   "metadata": {},
   "outputs": [
    {
     "data": {
      "text/plain": [
       "[4, 10, 18]"
      ]
     },
     "metadata": {},
     "output_type": "display_data"
    }
   ],
   "source": [
    "lst_1 = [1,2,3]\n",
    "lst_2 = [4,5,6]\n",
    "\n",
    "prod_lst = [a * b for a, b in zip(lst_1, lst_2)]\n",
    "\n",
    "display(prod_lst)"
   ]
  },
  {
   "cell_type": "markdown",
   "id": "07b9d5c4",
   "metadata": {},
   "source": [
    "## Ejercicio 2\n",
    "\n",
    "Dada una lista de diccionarios que representan personas con claves “nombre”, “edad” y “ciudad”, genera una nueva lista de nombres de personas que tengan más de 30 años y vivan en “Madrid”.\n",
    "Ejemplo: Para la lista \n",
    "\n",
    "```python\n",
    "[{\"nombre\": \"Ana\", \"edad\": 25, \"ciudad\": \"Madrid\"}, {\"nombre\": \"Juan\", \"edad\": 35, \"ciudad\": \"Madrid\"}, {\"nombre\": \"Luis\", \"edad\": 32, \"ciudad\": \"Barcelona\"}]\n",
    "```\n",
    "el resultado debería ser `[“Juan”]`."
   ]
  },
  {
   "cell_type": "code",
   "execution_count": 5,
   "id": "6da864f5",
   "metadata": {},
   "outputs": [
    {
     "data": {
      "text/plain": [
       "['Juan']"
      ]
     },
     "metadata": {},
     "output_type": "display_data"
    }
   ],
   "source": [
    "people_lst = [\n",
    "    {\"nombre\": \"Ana\", \"edad\": 25, \"ciudad\": \"Madrid\"},\n",
    "    {\"nombre\": \"Juan\", \"edad\": 35, \"ciudad\": \"Madrid\"},\n",
    "    {\"nombre\": \"Luis\", \"edad\": 32, \"ciudad\": \"Barcelona\"},\n",
    "]\n",
    "\n",
    "filtered_people = [\n",
    "    person[\"nombre\"] for person in people_lst if person[\"ciudad\"] == \"Madrid\" and person[\"edad\"] > 30\n",
    "]\n",
    "\n",
    "display(filtered_people)"
   ]
  },
  {
   "cell_type": "markdown",
   "id": "b82f2e89",
   "metadata": {},
   "source": [
    "## Ejercicio 3\n",
    "\n",
    "Dada una lista de listas de números, utiliza una expresión generadora para calcular la media de todos los números.\n",
    "\n",
    "Ejemplo: Para la lista `[[1, 2, 3], [4, 5], [6, 7, 8]]`, el resultado debería ser `4.5`."
   ]
  },
  {
   "cell_type": "code",
   "execution_count": 11,
   "id": "99999b7c",
   "metadata": {},
   "outputs": [
    {
     "data": {
      "text/plain": [
       "4.5"
      ]
     },
     "metadata": {},
     "output_type": "display_data"
    }
   ],
   "source": [
    "test_lst = [[1,2,3], [4,5], [6,7,8]]\n",
    "\n",
    "total_sum = sum(x for sublist in test_lst for x in sublist)\n",
    "cont = sum(len(sublist) for sublist in test_lst)\n",
    "avg = total_sum/cont\n",
    "\n",
    "display(avg)"
   ]
  },
  {
   "cell_type": "markdown",
   "id": "3560afb3",
   "metadata": {},
   "source": [
    "## Ejercicio 4\n",
    "\n",
    "Utiliza una expresión generadora para calcular la varianza de una lista de números. La varianza se calcula como la media de los cuadrados de las diferencias con la media.\n",
    "\n",
    "Ejemplo: Para la lista `[1, 2, 3, 4, 5]`, el resultado debería ser `2.0`."
   ]
  },
  {
   "cell_type": "code",
   "execution_count": 12,
   "id": "cdd79c7d",
   "metadata": {},
   "outputs": [
    {
     "data": {
      "text/plain": [
       "2.0"
      ]
     },
     "metadata": {},
     "output_type": "display_data"
    }
   ],
   "source": [
    "test_lst = [1, 2, 3, 4, 5]\n",
    "\n",
    "mu = sum(test_lst) / len(test_lst)\n",
    "var = sum((x - mu) ** 2 for x in test_lst) / len(test_lst)\n",
    "\n",
    "display(var)"
   ]
  }
 ],
 "metadata": {
  "kernelspec": {
   "display_name": "advanced-prog",
   "language": "python",
   "name": "python3"
  },
  "language_info": {
   "codemirror_mode": {
    "name": "ipython",
    "version": 3
   },
   "file_extension": ".py",
   "mimetype": "text/x-python",
   "name": "python",
   "nbconvert_exporter": "python",
   "pygments_lexer": "ipython3",
   "version": "3.11.4"
  }
 },
 "nbformat": 4,
 "nbformat_minor": 5
}
