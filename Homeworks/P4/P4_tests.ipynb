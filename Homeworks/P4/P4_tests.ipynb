{
 "cells": [
  {
   "cell_type": "markdown",
   "id": "7e7603af",
   "metadata": {},
   "source": [
    "# Práctica 4 - posibles soluciones"
   ]
  },
  {
   "cell_type": "markdown",
   "id": "feed2641",
   "metadata": {},
   "source": [
    "## Problema 1\n",
    "\n",
    "Implemente una clase Rectangulo que represente un rectángulo y que tenga dos atributos *base* y *altura*. Use `__eq__` para comparar si dos rectángulos son iguales (misma base y altura) y `__ne__` para verificar si son diferentes. Utilice los métodos `__gt__` y `__lt__` para comparar el área de dos rectángulos, devuelva True o False según sea el caso."
   ]
  },
  {
   "cell_type": "code",
   "execution_count": 1,
   "id": "37c353b8",
   "metadata": {},
   "outputs": [],
   "source": [
    "class Rectangulo:\n",
    "    \"\"\" Clase Rectangulo que representa un rectángulo y permite comparar sus dimensiones. \"\"\"\n",
    "\n",
    "    def __init__(self, base, altura):\n",
    "        \"\"\" Inicializa un rectángulo con base y altura. \"\"\"\n",
    "        self.base = base\n",
    "        self.altura = altura\n",
    "\n",
    "    def __str__(self):\n",
    "        \"\"\" Devuelve una representación en cadena del rectángulo. DEBUGGING.\"\"\"\n",
    "        return f\"Rectángulo con base={self.base} y altura={self.altura}\"\n",
    "\n",
    "    def __eq__(self, otro_rectangulo):\n",
    "        \"\"\" Compara si dos rectángulos son iguales en base y altura. \"\"\"\n",
    "        return self.base == otro_rectangulo.base and self.altura == otro_rectangulo.altura\n",
    "    \n",
    "    def __ne__(self, otro_rectangulo):\n",
    "        \"\"\" Compara si dos rectángulos son diferentes en base o altura. \"\"\"\n",
    "        return self.base != otro_rectangulo.base or self.altura != otro_rectangulo.altura\n",
    "    \n",
    "    def __gt__(self, otro_rectangulo):\n",
    "        \"\"\" Compara si el rectángulo actual es mayor que otro en base y altura. \"\"\"\n",
    "        return self.base > otro_rectangulo.base and self.altura > otro_rectangulo.altura\n",
    "\n",
    "    def __lt__(self, otro_rectangulo):\n",
    "        \"\"\" Compara si el rectángulo actual es menor que otro en base y altura. \"\"\"\n",
    "        return self.base < otro_rectangulo.base and self.altura < otro_rectangulo.altura\n",
    "        "
   ]
  },
  {
   "cell_type": "code",
   "execution_count": 2,
   "id": "aec539f7",
   "metadata": {},
   "outputs": [],
   "source": [
    "# Creación de rectángulos\n",
    "r1 = Rectangulo(10, 20)\n",
    "r2 = Rectangulo(10, 20) # Igual a r1\n",
    "r3 = Rectangulo(5, 15)  # Menor que r1 en ambas dimensiones\n",
    "r4 = Rectangulo(15, 25) # Mayor que r1 en ambas dimensiones\n",
    "r5 = Rectangulo(10, 25) # Solo altura diferente (mayor)\n",
    "r6 = Rectangulo(15, 20) # Solo base diferente (mayor)\n",
    "r7 = Rectangulo(5, 20)  # Solo base diferente (menor)\n",
    "r8 = Rectangulo(10, 15) # Solo altura diferente (menor)\n"
   ]
  },
  {
   "cell_type": "code",
   "execution_count": 3,
   "id": "b490530d",
   "metadata": {},
   "outputs": [
    {
     "name": "stdout",
     "output_type": "stream",
     "text": [
      "Rectángulo 1: Rectángulo con base=10 y altura=20\n",
      "Rectángulo 2 (igual a r1): Rectángulo con base=10 y altura=20\n",
      "Rectángulo 3 (menor que r1): Rectángulo con base=5 y altura=15\n",
      "Rectángulo 4 (mayor que r1): Rectángulo con base=15 y altura=25\n",
      "Rectángulo 5 (altura > r1.altura, base == r1.base): Rectángulo con base=10 y altura=25\n",
      "Rectángulo 6 (base > r1.base, altura == r1.altura): Rectángulo con base=15 y altura=20\n"
     ]
    }
   ],
   "source": [
    "print(f\"Rectángulo 1: {r1}\")\n",
    "print(f\"Rectángulo 2 (igual a r1): {r2}\")\n",
    "print(f\"Rectángulo 3 (menor que r1): {r3}\")\n",
    "print(f\"Rectángulo 4 (mayor que r1): {r4}\")\n",
    "print(f\"Rectángulo 5 (altura > r1.altura, base == r1.base): {r5}\")\n",
    "print(f\"Rectángulo 6 (base > r1.base, altura == r1.altura): {r6}\")\n"
   ]
  },
  {
   "cell_type": "code",
   "execution_count": 4,
   "id": "8cb446c2",
   "metadata": {},
   "outputs": [
    {
     "name": "stdout",
     "output_type": "stream",
     "text": [
      "--- Pruebas de Igualdad (__eq__) ---\n",
      "r1 == r2 (esperado True): True\n",
      "r1 == r3 (esperado False): False\n"
     ]
    }
   ],
   "source": [
    "# Pruebas de igualdad (==)\n",
    "print(\"--- Pruebas de Igualdad (__eq__) ---\")\n",
    "print(f\"r1 == r2 (esperado True): {r1 == r2}\")\n",
    "print(f\"r1 == r3 (esperado False): {r1 == r3}\")\n"
   ]
  },
  {
   "cell_type": "code",
   "execution_count": 5,
   "id": "37756c63",
   "metadata": {},
   "outputs": [
    {
     "name": "stdout",
     "output_type": "stream",
     "text": [
      "--- Pruebas de Desigualdad (__ne__) ---\n",
      "r1 != r2 (esperado False): False\n",
      "r1 != r3 (esperado True): True\n"
     ]
    }
   ],
   "source": [
    "# Pruebas de desigualdad (!=)\n",
    "print(\"--- Pruebas de Desigualdad (__ne__) ---\")\n",
    "print(f\"r1 != r2 (esperado False): {r1 != r2}\")\n",
    "print(f\"r1 != r3 (esperado True): {r1 != r3}\")\n"
   ]
  },
  {
   "cell_type": "code",
   "execution_count": 6,
   "id": "ccf88bcc",
   "metadata": {},
   "outputs": [
    {
     "name": "stdout",
     "output_type": "stream",
     "text": [
      "--- Pruebas de Mayor Que (__gt__) ---\n",
      "r4 > r1 (esperado True): True\n",
      "r1 > r3 (esperado True): True\n",
      "r1 > r4 (esperado False): False\n",
      "r1 > r5 (esperado False, solo altura es mayor): False\n",
      "r5 > r1 (esperado False, solo altura es mayor): False\n",
      "r1 > r6 (esperado False, solo base es mayor): False\n",
      "r6 > r1 (esperado False, solo base es mayor): False\n"
     ]
    }
   ],
   "source": [
    "# Pruebas de mayor que (>)\n",
    "print(\"--- Pruebas de Mayor Que (__gt__) ---\")\n",
    "print(f\"r4 > r1 (esperado True): {r4 > r1}\")  # 15,25 > 10,20\n",
    "print(f\"r1 > r3 (esperado True): {r1 > r3}\")  # 10,20 > 5,15\n",
    "print(f\"r1 > r4 (esperado False): {r1 > r4}\")\n",
    "print(f\"r1 > r5 (esperado False, solo altura es mayor): {r1 > r5}\") # 10,20 > 10,25 -> False\n",
    "print(f\"r5 > r1 (esperado False, solo altura es mayor): {r5 > r1}\") # 10,25 > 10,20 -> False\n",
    "print(f\"r1 > r6 (esperado False, solo base es mayor): {r1 > r6}\")   # 10,20 > 15,20 -> False\n",
    "print(f\"r6 > r1 (esperado False, solo base es mayor): {r6 > r1}\")   # 15,20 > 10,20 -> False\n"
   ]
  },
  {
   "cell_type": "code",
   "execution_count": 7,
   "id": "ee288974",
   "metadata": {},
   "outputs": [
    {
     "name": "stdout",
     "output_type": "stream",
     "text": [
      "--- Pruebas de Menor Que (__lt__) ---\n",
      "r3 < r1 (esperado True): True\n",
      "r1 < r4 (esperado True): True\n",
      "r1 < r3 (esperado False): False\n",
      "r1 < r7 (esperado False, solo base es menor): False\n",
      "r7 < r1 (esperado False, solo base es menor): False\n",
      "r1 < r8 (esperado False, solo altura es menor): False\n",
      "r8 < r1 (esperado False, solo altura es menor): False\n"
     ]
    }
   ],
   "source": [
    "# Pruebas de menor que (<)\n",
    "print(\"--- Pruebas de Menor Que (__lt__) ---\")\n",
    "print(f\"r3 < r1 (esperado True): {r3 < r1}\")  # 5,15 < 10,20\n",
    "print(f\"r1 < r4 (esperado True): {r1 < r4}\")  # 10,20 < 15,25\n",
    "print(f\"r1 < r3 (esperado False): {r1 < r3}\")\n",
    "print(f\"r1 < r7 (esperado False, solo base es menor): {r1 < r7}\") # 10,20 < 5,20 -> False\n",
    "print(f\"r7 < r1 (esperado False, solo base es menor): {r7 < r1}\") # 5,20 < 10,20 -> False\n",
    "print(f\"r1 < r8 (esperado False, solo altura es menor): {r1 < r8}\")# 10,20 < 10,15 -> False\n",
    "print(f\"r8 < r1 (esperado False, solo altura es menor): {r8 < r1}\")# 10,15 < 10,20 -> False"
   ]
  },
  {
   "cell_type": "markdown",
   "id": "9ca018bf",
   "metadata": {},
   "source": [
    "## Ejercicio 2\n",
    "\n",
    "Implemente una clase Playlist que tenga una lista de sus canciones favoritas.\n",
    "Use el método `__len__` para devolver el número de canciones mediante el llamado `len(miLista)`. Utilice además el método `__getitem__` para devolver una canción de la lista de acuerdo al argumento recibido en el método. Finalmente utilice `__setitem__` para establecer una nueva canción en la posición indicada, ambos pasados como argumentos del método.\n"
   ]
  },
  {
   "cell_type": "code",
   "execution_count": 29,
   "id": "81656b44",
   "metadata": {},
   "outputs": [],
   "source": [
    "class Playlist:\n",
    "    \"\"\" Clase Playlist que representa una lista de reproducción de canciones. \"\"\"\n",
    "\n",
    "    def __init__(self, canciones: list):\n",
    "        \"\"\" Inicializa una lista de reproducción vacía. \"\"\"\n",
    "        self.canciones = canciones\n",
    "\n",
    "    def __str__(self):\n",
    "        \"\"\" Función usada para imprimir la lista de reproducción. DEBUGGING. \"\"\"\n",
    "        return f\"Playlist contiene: {', '.join(str(c) for c in self.canciones)}\"\n",
    "\n",
    "    def __len__(self):\n",
    "        \"\"\" Devuelve el número de canciones en la lista de reproducción. \"\"\"\n",
    "        return len(self.canciones)\n",
    "    \n",
    "    def __getitem__(self, index):\n",
    "        \"\"\" Devuelve la canción en la posición indicada. \"\"\"\n",
    "        return self.canciones[index]\n",
    "    \n",
    "    def __setitem__(self, index, cancion):\n",
    "        \"\"\" Establece la canción en la posición indicada. \"\"\"\n",
    "        self.canciones[index] = cancion"
   ]
  },
  {
   "cell_type": "code",
   "execution_count": 30,
   "id": "19260996",
   "metadata": {},
   "outputs": [],
   "source": [
    "playlist1 = Playlist([\"Levedad\", \"Molde Perfecto\", \"fatal\", \"Parte del Sol (X Años)\", \"Consecuencias\"])\n",
    "playlist2 = Playlist([\"Splendido\", \"Nunca te amé\", \"Aire Soy\", \"Incendio\", \"Mejor Ya No\", \"Prohibido Besar\"])"
   ]
  },
  {
   "cell_type": "code",
   "execution_count": 31,
   "id": "a25d5e07",
   "metadata": {},
   "outputs": [
    {
     "name": "stdout",
     "output_type": "stream",
     "text": [
      "Playlist contiene: Levedad, Molde Perfecto, fatal, Parte del Sol (X Años), Consecuencias\n",
      "Playlist contiene: Splendido, Nunca te amé, Aire Soy, Incendio, Mejor Ya No, Prohibido Besar\n"
     ]
    }
   ],
   "source": [
    "print(playlist1)\n",
    "print(playlist2)"
   ]
  },
  {
   "cell_type": "code",
   "execution_count": 32,
   "id": "50886fa4",
   "metadata": {},
   "outputs": [
    {
     "data": {
      "text/plain": [
       "(5, 6)"
      ]
     },
     "execution_count": 32,
     "metadata": {},
     "output_type": "execute_result"
    }
   ],
   "source": [
    "len(playlist1), len(playlist2)"
   ]
  },
  {
   "cell_type": "code",
   "execution_count": 33,
   "id": "0dfbdf46",
   "metadata": {},
   "outputs": [
    {
     "data": {
      "text/plain": [
       "('fatal', 'Mejor Ya No')"
      ]
     },
     "execution_count": 33,
     "metadata": {},
     "output_type": "execute_result"
    }
   ],
   "source": [
    "playlist1[2], playlist2[4]"
   ]
  },
  {
   "cell_type": "code",
   "execution_count": 34,
   "id": "d08b53bd",
   "metadata": {},
   "outputs": [
    {
     "name": "stdout",
     "output_type": "stream",
     "text": [
      "Antes de modificar: Parte del Sol (X Años)\n",
      "Después de modificar: ¿En Qué Momento?\n"
     ]
    }
   ],
   "source": [
    "print(f\"Antes de modificar: {playlist1[3]}\")\n",
    "playlist1[3] = \"¿En Qué Momento?\"\n",
    "print(f\"Después de modificar: {playlist1[3]}\")"
   ]
  }
 ],
 "metadata": {
  "kernelspec": {
   "display_name": "advanced-prog",
   "language": "python",
   "name": "python3"
  },
  "language_info": {
   "codemirror_mode": {
    "name": "ipython",
    "version": 3
   },
   "file_extension": ".py",
   "mimetype": "text/x-python",
   "name": "python",
   "nbconvert_exporter": "python",
   "pygments_lexer": "ipython3",
   "version": "3.11.4"
  }
 },
 "nbformat": 4,
 "nbformat_minor": 5
}
