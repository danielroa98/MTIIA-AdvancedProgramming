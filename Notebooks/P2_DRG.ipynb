{
 "cells": [
  {
   "cell_type": "markdown",
   "id": "88a64194",
   "metadata": {},
   "source": [
    "# Práctica 2"
   ]
  },
  {
   "cell_type": "code",
   "execution_count": 1,
   "id": "0d613c4d",
   "metadata": {},
   "outputs": [],
   "source": [
    "import numpy as np"
   ]
  },
  {
   "cell_type": "markdown",
   "id": "fe8a3240",
   "metadata": {},
   "source": [
    "## Solución al primer ejercicio"
   ]
  },
  {
   "cell_type": "code",
   "execution_count": 2,
   "id": "e298abe4",
   "metadata": {},
   "outputs": [
    {
     "data": {
      "text/plain": [
       "array([[[10, 57, 60],\n",
       "        [45, 39, 93],\n",
       "        [16, 12, 44],\n",
       "        [80, 85, 64]],\n",
       "\n",
       "       [[66, 96, 47],\n",
       "        [56, 54, 76],\n",
       "        [79, 50,  5],\n",
       "        [49, 16, 26]],\n",
       "\n",
       "       [[59, 64, 19],\n",
       "        [58, 90, 33],\n",
       "        [25, 70, 34],\n",
       "        [46,  5,  9]],\n",
       "\n",
       "       [[34, 42, 66],\n",
       "        [36, 86, 27],\n",
       "        [23, 15, 38],\n",
       "        [ 1, 92, 34]],\n",
       "\n",
       "       [[76, 80, 73],\n",
       "        [47, 11, 26],\n",
       "        [72, 34, 67],\n",
       "        [90, 65, 74]]])"
      ]
     },
     "execution_count": 2,
     "metadata": {},
     "output_type": "execute_result"
    }
   ],
   "source": [
    "arr = np.random.randint(0, 101, size=(5, 4, 3))\n",
    "arr"
   ]
  },
  {
   "cell_type": "code",
   "execution_count": 3,
   "id": "dbfc895f",
   "metadata": {},
   "outputs": [
    {
     "data": {
      "text/plain": [
       "(np.int64(1), np.int64(96))"
      ]
     },
     "execution_count": 3,
     "metadata": {},
     "output_type": "execute_result"
    }
   ],
   "source": [
    "min_val = np.min(arr)\n",
    "max_val = np.max(arr)\n",
    "\n",
    "min_val, max_val"
   ]
  },
  {
   "cell_type": "code",
   "execution_count": 9,
   "id": "ab7643d8",
   "metadata": {},
   "outputs": [
    {
     "data": {
      "text/plain": [
       "(array([3, 3, 0]), array([1, 0, 1]))"
      ]
     },
     "execution_count": 9,
     "metadata": {},
     "output_type": "execute_result"
    }
   ],
   "source": [
    "pos_min = np.argwhere(arr == min_val)[0]\n",
    "pos_max = np.argwhere(arr == max_val)[0]\n",
    "\n",
    "pos_min, pos_max"
   ]
  },
  {
   "cell_type": "code",
   "execution_count": 11,
   "id": "3de7d7d1",
   "metadata": {},
   "outputs": [
    {
     "name": "stdout",
     "output_type": "stream",
     "text": [
      "\n",
      "Valor mínimo: 1 en la posición: (np.int64(3), np.int64(3), np.int64(0))\n",
      "\n",
      "Valor máximo: 96 en la posición: (np.int64(1), np.int64(0), np.int64(1))\n"
     ]
    }
   ],
   "source": [
    "# print(\"Arreglo generado:\\n\", arr)\n",
    "print(f\"\\nValor mínimo: {min_val} en la posición: {tuple(pos_min)}\")\n",
    "print(f\"\\nValor máximo: {max_val} en la posición: {tuple(pos_max)}\")"
   ]
  },
  {
   "cell_type": "markdown",
   "id": "80b60099",
   "metadata": {},
   "source": [
    "## Solución al segundo ejercicio"
   ]
  },
  {
   "cell_type": "code",
   "execution_count": 17,
   "id": "8bc64498",
   "metadata": {},
   "outputs": [
    {
     "data": {
      "text/plain": [
       "array([[[ 1,  2,  3],\n",
       "        [ 4,  5,  6]],\n",
       "\n",
       "       [[ 7,  8,  9],\n",
       "        [10, 11, 12]]])"
      ]
     },
     "execution_count": 17,
     "metadata": {},
     "output_type": "execute_result"
    }
   ],
   "source": [
    "H = np.array([[[1, 2, 3], [4, 5, 6]], [[7, 8, 9], [10, 11, 12]]])\n",
    "H"
   ]
  },
  {
   "cell_type": "code",
   "execution_count": 18,
   "id": "8ff2d7fc",
   "metadata": {},
   "outputs": [
    {
     "data": {
      "text/plain": [
       "array([[[ 1,  4],\n",
       "        [ 2,  5],\n",
       "        [ 3,  6]],\n",
       "\n",
       "       [[ 7, 10],\n",
       "        [ 8, 11],\n",
       "        [ 9, 12]]])"
      ]
     },
     "execution_count": 18,
     "metadata": {},
     "output_type": "execute_result"
    }
   ],
   "source": [
    "H_transposed = np.transpose(H, axes=(0, 2, 1))\n",
    "H_transposed"
   ]
  },
  {
   "cell_type": "code",
   "execution_count": 19,
   "id": "57b91708",
   "metadata": {},
   "outputs": [
    {
     "name": "stdout",
     "output_type": "stream",
     "text": [
      "Matriz original:\n",
      "[[[ 1  2  3]\n",
      "  [ 4  5  6]]\n",
      "\n",
      " [[ 7  8  9]\n",
      "  [10 11 12]]]\n",
      "\n",
      "Matriz transpuesta:\n",
      "[[[ 1  4]\n",
      "  [ 2  5]\n",
      "  [ 3  6]]\n",
      "\n",
      " [[ 7 10]\n",
      "  [ 8 11]\n",
      "  [ 9 12]]]\n"
     ]
    }
   ],
   "source": [
    "print(f\"Matriz original:\\n{H}\")\n",
    "print(f\"\\nMatriz transpuesta:\\n{H_transposed}\")"
   ]
  }
 ],
 "metadata": {
  "kernelspec": {
   "display_name": "advanced-prog",
   "language": "python",
   "name": "python3"
  },
  "language_info": {
   "codemirror_mode": {
    "name": "ipython",
    "version": 3
   },
   "file_extension": ".py",
   "mimetype": "text/x-python",
   "name": "python",
   "nbconvert_exporter": "python",
   "pygments_lexer": "ipython3",
   "version": "3.11.4"
  }
 },
 "nbformat": 4,
 "nbformat_minor": 5
}
